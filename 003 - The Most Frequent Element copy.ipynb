{
 "cells": [
  {
   "cell_type": "markdown",
   "metadata": {},
   "source": [
    "Task : Find out the most frequent number and its frequency.\n",
    "\n",
    "Write a program that;\n",
    "\n",
    "Finds out the most frequent number in the given list.\n",
    "Calculates its frequency."
   ]
  },
  {
   "cell_type": "code",
   "execution_count": 1,
   "metadata": {},
   "outputs": [
    {
     "name": "stdout",
     "output_type": "stream",
     "text": [
      "the most frequent number is 3 and it was 4 times repeated\n"
     ]
    }
   ],
   "source": [
    "numbers = [1, 3, 7, 4, 3, 0, 3, 6, 3]\n",
    "\n",
    "frequent = max(numbers, key = numbers.count)\n",
    "\n",
    "repeat = numbers.count(frequent)\n",
    "\n",
    "print(\"the most frequent number is {} and it was {} times repeated\".format(frequent, repeat))"
   ]
  }
 ],
 "metadata": {
  "interpreter": {
   "hash": "62b6224e0940daa3b988f1d39f786d102d87abaf8f0f77462d2a1958e7e16640"
  },
  "kernelspec": {
   "display_name": "Python 3.9.7 ('base')",
   "language": "python",
   "name": "python3"
  },
  "language_info": {
   "codemirror_mode": {
    "name": "ipython",
    "version": 3
   },
   "file_extension": ".py",
   "mimetype": "text/x-python",
   "name": "python",
   "nbconvert_exporter": "python",
   "pygments_lexer": "ipython3",
   "version": "3.9.7"
  },
  "orig_nbformat": 4
 },
 "nbformat": 4,
 "nbformat_minor": 2
}
