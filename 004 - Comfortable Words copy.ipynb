{
 "cells": [
  {
   "cell_type": "markdown",
   "metadata": {},
   "source": [
    "Task : Find out if the given word is \"comfortable words\" in relation to the ten-finger keyboard use.\n",
    "\n",
    "A comfortable word is a word which you can type always alternating the hand you type with (assuming you type using a Q-keyboard and use of the ten-fingers standard).\n",
    "The word will always be a string consisting of only letters from a to z.\n",
    "Write a program which returns True if it's a comfortable word or False otherwise."
   ]
  },
  {
   "cell_type": "code",
   "execution_count": 1,
   "metadata": {},
   "outputs": [
    {
     "name": "stdout",
     "output_type": "stream",
     "text": [
      "True\n"
     ]
    }
   ],
   "source": [
    "\t\n",
    "word = set(input(\"Enter your word? :\"))\n",
    "\n",
    "set1 = {\"q\",\"a\", \"z\", \"w\", \"s\", \"x\", \"e\", \"d\", \"c\", \"r\" ,\"f\", \"v\", \"t\", \"g\", \"b\"}\n",
    "set2 = {\"y\", \"h\",\"n\",\"u\", \"j\", \"m\", \"ı\", \"k\", \"ö\", \"o\", \"l\", \"ç\", \"p\",\"ş\",\"ğ\",\"i\",\"ü\"}\n",
    "sonuc = bool(word & set1) and bool(word & set2)\n",
    "print(sonuc)"
   ]
  }
 ],
 "metadata": {
  "interpreter": {
   "hash": "62b6224e0940daa3b988f1d39f786d102d87abaf8f0f77462d2a1958e7e16640"
  },
  "kernelspec": {
   "display_name": "Python 3.9.7 ('base')",
   "language": "python",
   "name": "python3"
  },
  "language_info": {
   "codemirror_mode": {
    "name": "ipython",
    "version": 3
   },
   "file_extension": ".py",
   "mimetype": "text/x-python",
   "name": "python",
   "nbconvert_exporter": "python",
   "pygments_lexer": "ipython3",
   "version": "3.9.7"
  },
  "orig_nbformat": 4
 },
 "nbformat": 4,
 "nbformat_minor": 2
}
