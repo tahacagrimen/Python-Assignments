{
 "cells": [
  {
   "cell_type": "markdown",
   "metadata": {},
   "source": [
    "Given two integer values, return their sum. If the two values are the same, then return double their sum."
   ]
  },
  {
   "cell_type": "code",
   "execution_count": 1,
   "metadata": {},
   "outputs": [
    {
     "name": "stdout",
     "output_type": "stream",
     "text": [
      "19 is a prime number\n"
     ]
    }
   ],
   "source": [
    "def sum_double(x, y):\n",
    "  if x != y:\n",
    "    return (x+y)\n",
    "  else:\n",
    "    return ((x+y)*2)"
   ]
  }
 ],
 "metadata": {
  "interpreter": {
   "hash": "62b6224e0940daa3b988f1d39f786d102d87abaf8f0f77462d2a1958e7e16640"
  },
  "kernelspec": {
   "display_name": "Python 3.9.7 ('base')",
   "language": "python",
   "name": "python3"
  },
  "language_info": {
   "codemirror_mode": {
    "name": "ipython",
    "version": 3
   },
   "file_extension": ".py",
   "mimetype": "text/x-python",
   "name": "python",
   "nbconvert_exporter": "python",
   "pygments_lexer": "ipython3",
   "version": "3.9.7"
  },
  "orig_nbformat": 4
 },
 "nbformat": 4,
 "nbformat_minor": 2
}
